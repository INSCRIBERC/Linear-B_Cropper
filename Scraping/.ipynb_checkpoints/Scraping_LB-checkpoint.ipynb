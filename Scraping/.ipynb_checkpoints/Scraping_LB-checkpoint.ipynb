{
 "cells": [
  {
   "cell_type": "markdown",
   "metadata": {},
   "source": [
    "Source:\n",
    " - https://damos.hf.uio.no/"
   ]
  },
  {
   "cell_type": "code",
   "execution_count": null,
   "metadata": {},
   "outputs": [],
   "source": [
    "import urllib.request\n",
    "import selenium\n",
    "from selenium import webdriver\n",
    "from selenium.webdriver.common.keys import Keys\n",
    "from tqdm import tqdm\n",
    "import os\n",
    "from more_itertools import split_before\n",
    "import pandas as pd\n",
    "import pickle, time"
   ]
  },
  {
   "cell_type": "code",
   "execution_count": null,
   "metadata": {},
   "outputs": [],
   "source": [
    "cwd = os.getcwd()\n",
    "savepath = cwd\n",
    "\n",
    "DRIVER_PATH = cwd + os.sep + \"chromedriver.exe\"\n",
    "chrome_options = webdriver.ChromeOptions() \n",
    "prefs = {'download.default_directory' : savepath}\n",
    "chrome_options.add_experimental_option('prefs', prefs)\n",
    "# chrome_options.add_argument('--headless')\n",
    "# chrome_options.add_argument('--no-sandbox')\n",
    "# chrome_options.add_argument('--disable-dev-shm-usage')\n",
    "driver = webdriver.Chrome(executable_path = DRIVER_PATH, options=chrome_options)\n",
    "driver.get('https://damos.hf.uio.no/')"
   ]
  },
  {
   "cell_type": "code",
   "execution_count": null,
   "metadata": {},
   "outputs": [],
   "source": [
    "place = 'PY'\n",
    "files = sorted([os.path.splitext(file)[0] for file in os.listdir('D:/Dottorato/Pylos') \n",
    "         if os.path.isfile(os.path.join('D:/Dottorato/Pylos', file))])"
   ]
  },
  {
   "cell_type": "code",
   "execution_count": null,
   "metadata": {},
   "outputs": [],
   "source": [
    "not_found = 0\n",
    "for file in range(len(files)):    \n",
    "    series_subseries, id_ = files[file].split(' ')[:2]\n",
    "    key = place + ' ' + id_ + ' ' + series_subseries + '(-)'\n",
    "    inputElement = driver.find_element_by_xpath('//*[@id=\"root\"]/div/div/div[2]/div[1]/div/div[2]/div/div/div[2]/div/div[3]/input')\n",
    "    inputElement.send_keys(key)\n",
    "    try:\n",
    "        window = driver.find_element_by_xpath('//*[@id=\"root\"]/div/div/div[2]/div[1]/div/div[2]/div/div/div[2]/div/ul/div[1]/div/div/li/span[1]')\n",
    "        window.click()\n",
    "        time.sleep(2)\n",
    "        transcription = driver.find_element_by_xpath('//*[@id=\"root\"]/div/div/div[*]/div[*]/div/div/div[*]/div/div[*]/div[*]/div[*]/pre').text\n",
    "        print(str(file + 1) + ') ' + key + '\\n')\n",
    "        print(transcription)\n",
    "        print('\\n------------------------------\\n\\n')\n",
    "    except:\n",
    "        print(str(file + 1) + ') ' + key + '\\n')\n",
    "        print('Key: missing.')\n",
    "        not_found += 1\n",
    "        print('\\n------------------------------\\n\\n')\n",
    "\n",
    "    clearElement = driver.find_element_by_xpath('//*[@id=\"root\"]/div/div/div[2]/div[1]/div/div[2]/div/div/div[2]/div/div[3]/input')\n",
    "    clearElement.clear()\n",
    "\n",
    "print(f'{str(not_found)} keys were not found.\\n')"
   ]
  }
 ],
 "metadata": {
  "kernelspec": {
   "display_name": "Python 3",
   "language": "python",
   "name": "python3"
  },
  "language_info": {
   "codemirror_mode": {
    "name": "ipython",
    "version": 3
   },
   "file_extension": ".py",
   "mimetype": "text/x-python",
   "name": "python",
   "nbconvert_exporter": "python",
   "pygments_lexer": "ipython3",
   "version": "3.7.4"
  }
 },
 "nbformat": 4,
 "nbformat_minor": 4
}
